{
 "cells": [
  {
   "cell_type": "code",
   "execution_count": null,
   "metadata": {
    "collapsed": true
   },
   "outputs": [],
   "source": [
    "import pandas as pd"
   ]
  },
  {
   "cell_type": "code",
   "execution_count": null,
   "metadata": {
    "collapsed": true
   },
   "outputs": [],
   "source": [
    "file = \"data/access-export/tblTexts.xlsx\""
   ]
  },
  {
   "cell_type": "code",
   "execution_count": null,
   "metadata": {
    "collapsed": true
   },
   "outputs": [],
   "source": [
    "df = pd.read_excel(file)"
   ]
  },
  {
   "cell_type": "code",
   "execution_count": null,
   "metadata": {
    "collapsed": false
   },
   "outputs": [],
   "source": [
    "# create necessary concept-schemes\n",
    "ecce_genre,_ = SkosConceptScheme.objects.get_or_create(dc_title=\"ecce-genre\")\n",
    "ecce_dialect,_ = SkosConceptScheme.objects.get_or_create(dc_title=\"ecce-dialect\")"
   ]
  },
  {
   "cell_type": "code",
   "execution_count": null,
   "metadata": {
    "collapsed": false
   },
   "outputs": [],
   "source": [
    "for i, row in df.iterrows():\n",
    "    temp_genre,_ = SkosConcept.objects.get_or_create(pref_label=row['Genre'])\n",
    "    temp_genre.save()\n",
    "    temp_genre.scheme = [ecce_genre]\n",
    "    temp_dialect,_ = SkosConcept.objects.get_or_create(pref_label=row['Dialect'])\n",
    "    temp_dialect.save()\n",
    "    temp_dialect.scheme = [ecce_dialect]"
   ]
  },
  {
   "cell_type": "code",
   "execution_count": null,
   "metadata": {
    "collapsed": false
   },
   "outputs": [],
   "source": [
    "for i, row in df.iterrows():\n",
    "    temp_corpus,_ = Corpus.objects.get_or_create(name=row['Corpus'])\n",
    "    temp_corpus.save()\n",
    "    temp_date,_ = Date.objects.get_or_create(dates=row['MeanDate'])\n",
    "    temp_date.save()\n",
    "    temp_text,_ = Text.objects.get_or_create(\n",
    "        text=row['Text'],\n",
    "        date=row['Date'],\n",
    "        genre=SkosConcept.objects.get(pref_label=row['Genre']),\n",
    "        corpus = temp_corpus,\n",
    "        mean_date = temp_date,\n",
    "        lower=int(row['Lower']),\n",
    "        size = float(row['Size']),\n",
    "        dialect=SkosConcept.objects.get(pref_label=row['Dialect'])\n",
    "    )\n",
    "    temp_text.save()"
   ]
  },
  {
   "cell_type": "code",
   "execution_count": null,
   "metadata": {
    "collapsed": false
   },
   "outputs": [],
   "source": [
    "SkosConceptScheme.objects.all().delete()"
   ]
  },
  {
   "cell_type": "code",
   "execution_count": null,
   "metadata": {
    "collapsed": true
   },
   "outputs": [],
   "source": [
    "#for x in Text.objects.all():\n",
    " #   x.delete()"
   ]
  }
 ],
 "metadata": {
  "kernelspec": {
   "display_name": "Django Shell-Plus",
   "language": "python",
   "name": "django_extensions"
  },
  "language_info": {
   "codemirror_mode": {
    "name": "ipython",
    "version": 3
   },
   "file_extension": ".py",
   "mimetype": "text/x-python",
   "name": "python",
   "nbconvert_exporter": "python",
   "pygments_lexer": "ipython3",
   "version": "3.5.2"
  }
 },
 "nbformat": 4,
 "nbformat_minor": 1
}
