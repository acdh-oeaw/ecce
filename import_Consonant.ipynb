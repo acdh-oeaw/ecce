{
 "cells": [
  {
   "cell_type": "code",
   "execution_count": 1,
   "metadata": {
    "collapsed": true
   },
   "outputs": [],
   "source": [
    "import pandas as pd"
   ]
  },
  {
   "cell_type": "code",
   "execution_count": 2,
   "metadata": {
    "collapsed": true
   },
   "outputs": [],
   "source": [
    "file = \"data/access-export/tbl4thConsonants.xlsx\""
   ]
  },
  {
   "cell_type": "code",
   "execution_count": 3,
   "metadata": {
    "collapsed": true
   },
   "outputs": [],
   "source": [
    "df = pd.read_excel(file)"
   ]
  },
  {
   "cell_type": "code",
   "execution_count": 4,
   "metadata": {
    "collapsed": true
   },
   "outputs": [],
   "source": [
    "# create necessary concept-schemes\n",
    "ecce_artManner,_ = SkosConceptScheme.objects.get_or_create(dc_title=\"ecce-artManner\")\n",
    "ecce_artPlace,_ = SkosConceptScheme.objects.get_or_create(dc_title=\"ecce-artPlace\")\n",
    "ecce_voice,_ = SkosConceptScheme.objects.get_or_create(dc_title=\"ecce-voice\")\n",
    "ecce_airflow,_ = SkosConceptScheme.objects.get_or_create(dc_title=\"ecce-airflow\")"
   ]
  },
  {
   "cell_type": "code",
   "execution_count": 5,
   "metadata": {
    "collapsed": false
   },
   "outputs": [],
   "source": [
    "for i, row in df.iterrows():\n",
    "    temp_concept,_ = SkosConcept.objects.get_or_create(pref_label=row['artManner'])\n",
    "    temp_concept.save()\n",
    "    temp_concept.scheme = [ecce_artManner]"
   ]
  },
  {
   "cell_type": "code",
   "execution_count": 6,
   "metadata": {
    "collapsed": true
   },
   "outputs": [],
   "source": [
    "for i, row in df.iterrows():\n",
    "    temp_concept,_ = SkosConcept.objects.get_or_create(pref_label=row['artPlace'])\n",
    "    temp_concept.save()\n",
    "    temp_concept.scheme = [ecce_artPlace]"
   ]
  },
  {
   "cell_type": "code",
   "execution_count": 7,
   "metadata": {
    "collapsed": true
   },
   "outputs": [],
   "source": [
    "for i, row in df.iterrows():\n",
    "    temp_concept,_ = SkosConcept.objects.get_or_create(pref_label=row['voice'])\n",
    "    temp_concept.save()\n",
    "    temp_concept.scheme = [ecce_voice]"
   ]
  },
  {
   "cell_type": "code",
   "execution_count": 8,
   "metadata": {
    "collapsed": true
   },
   "outputs": [],
   "source": [
    "for i, row in df.iterrows():\n",
    "    temp_concept,_ = SkosConcept.objects.get_or_create(pref_label=row['airflow'])\n",
    "    temp_concept.save()\n",
    "    temp_concept.scheme = [ecce_airflow]"
   ]
  },
  {
   "cell_type": "code",
   "execution_count": 9,
   "metadata": {
    "collapsed": true
   },
   "outputs": [],
   "source": [
    "for i, row in df.iterrows():\n",
    "    temp_object,_ = Consonant.objects.get_or_create(\n",
    "        consonant=row['consonant'],\n",
    "        art_manner=SkosConcept.objects.get(pref_label=row['artManner']),\n",
    "        art_place=SkosConcept.objects.get(pref_label=row['artPlace']),\n",
    "        voice=SkosConcept.objects.get(pref_label=row['voice']),\n",
    "        airflow=SkosConcept.objects.get(pref_label=row['airflow']),\n",
    "        sonority=row['sonority'],\n",
    "        transcription=row['transcription'],\n",
    "        place_ord=row['placeOrd']        \n",
    "    )\n",
    "    temp_object.save()"
   ]
  }
 ],
 "metadata": {
  "kernelspec": {
   "display_name": "Django Shell-Plus",
   "language": "python",
   "name": "django_extensions"
  },
  "language_info": {
   "codemirror_mode": {
    "name": "ipython",
    "version": 3
   },
   "file_extension": ".py",
   "mimetype": "text/x-python",
   "name": "python",
   "nbconvert_exporter": "python",
   "pygments_lexer": "ipython3",
   "version": "3.5.2"
  }
 },
 "nbformat": 4,
 "nbformat_minor": 1
}
