{
 "cells": [
  {
   "cell_type": "code",
   "execution_count": 1,
   "metadata": {
    "collapsed": true
   },
   "outputs": [],
   "source": [
    "import pandas as pd"
   ]
  },
  {
   "cell_type": "code",
   "execution_count": 2,
   "metadata": {
    "collapsed": true
   },
   "outputs": [],
   "source": [
    "file = \"data/access-export/tblClusters.xlsx\""
   ]
  },
  {
   "cell_type": "code",
   "execution_count": 3,
   "metadata": {
    "collapsed": true
   },
   "outputs": [],
   "source": [
    "df = pd.read_excel(file)"
   ]
  },
  {
   "cell_type": "code",
   "execution_count": 4,
   "metadata": {
    "collapsed": false
   },
   "outputs": [],
   "source": [
    "for i, row in df.iterrows():\n",
    "    try:\n",
    "        temp_nad_vc = float((row['NAD_C1C2']).replace(',','.'))\n",
    "    except:\n",
    "        temp_nad_vc = 0.0\n",
    "    try:\n",
    "        temp_nad_c1c2 = float((row['NAD_VC']).replace(',','.'))\n",
    "    except:\n",
    "        temp_nad_c1c2 = 0.0\n",
    "    try:\n",
    "        temp_nad_c2c3 = float((row['NAD_C1C2']).replace(',','.'))\n",
    "    except:\n",
    "        temp_nad_c2c3 = 0.0\n",
    "    temp_object,_ = Cluster.objects.get_or_create(\n",
    "        consonant=row['cluster'],\n",
    "        size=row['size'],\n",
    "        ssp=row['SSP'],\n",
    "        cv_structure=row['CV_structure'],\n",
    "        preferred_cluster=row['Preferred_cluster'],\n",
    "        nad_vc=temp_nad_vc,\n",
    "        nad_c1c2=temp_nad_c1c2,\n",
    "        nad_c2c3=temp_nad_c2c3\n",
    "    )\n",
    "    try:\n",
    "        temp_object.first_consonant=Consonant.objects.get(consonant=row['firstC'])\n",
    "        temp_object.save()\n",
    "    except:\n",
    "        pass\n",
    "    try:\n",
    "        temp_object.second_consonant=Consonant.objects.get(consonant=row['secondC'])\n",
    "        temp_object.save()\n",
    "    except:\n",
    "        pass\n",
    "    try:\n",
    "        temp_object.third_consonant=Consonant.objects.get(consonant=row['thirdC'])\n",
    "        temp_object.save()\n",
    "    except:\n",
    "        pass\n",
    "    try:\n",
    "        temp_object.fourth_consonant=Consonant.objects.get(consonant=row['fourthC'])\n",
    "        temp_object.save()\n",
    "    except:\n",
    "        pass"
   ]
  },
  {
   "cell_type": "code",
   "execution_count": 16,
   "metadata": {
    "collapsed": true
   },
   "outputs": [],
   "source": [
    "#for x in Cluster.objects.all():\n",
    " #   x.delete()"
   ]
  }
 ],
 "metadata": {
  "kernelspec": {
   "display_name": "Django Shell-Plus",
   "language": "python",
   "name": "django_extensions"
  },
  "language_info": {
   "codemirror_mode": {
    "name": "ipython",
    "version": 3
   },
   "file_extension": ".py",
   "mimetype": "text/x-python",
   "name": "python",
   "nbconvert_exporter": "python",
   "pygments_lexer": "ipython3",
   "version": "3.5.2"
  }
 },
 "nbformat": 4,
 "nbformat_minor": 1
}
