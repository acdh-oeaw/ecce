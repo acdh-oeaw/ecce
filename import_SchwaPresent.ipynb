{
 "cells": [
  {
   "cell_type": "code",
   "execution_count": 1,
   "metadata": {
    "collapsed": true
   },
   "outputs": [],
   "source": [
    "import pandas as pd"
   ]
  },
  {
   "cell_type": "code",
   "execution_count": 2,
   "metadata": {
    "collapsed": true
   },
   "outputs": [],
   "source": [
    "file = \"data/access-export/tblSchwaPresent.xlsx\""
   ]
  },
  {
   "cell_type": "code",
   "execution_count": 3,
   "metadata": {
    "collapsed": true
   },
   "outputs": [],
   "source": [
    "df = pd.read_excel(file)"
   ]
  },
  {
   "cell_type": "code",
   "execution_count": 4,
   "metadata": {
    "collapsed": true
   },
   "outputs": [],
   "source": [
    "# create necessary concept-schemes\n",
    "ecce_schwapresent,_ = SkosConceptScheme.objects.get_or_create(dc_title=\"schwapresent\")"
   ]
  },
  {
   "cell_type": "code",
   "execution_count": 5,
   "metadata": {
    "collapsed": true
   },
   "outputs": [],
   "source": [
    "# create needed concepts\n",
    "for i, row in df.iterrows():\n",
    "    temp_concept,_ = SkosConcept.objects.get_or_create(pref_label=row['schwapresent'])\n",
    "    temp_concept.save()\n",
    "    temp_concept.scheme = [ecce_schwapresent]"
   ]
  },
  {
   "cell_type": "code",
   "execution_count": 6,
   "metadata": {
    "collapsed": false
   },
   "outputs": [],
   "source": [
    "for i, row in df.iterrows():\n",
    "    temp_object,_ = SchwaPresent.objects.get_or_create(\n",
    "        spelling=row['spelling2'],\n",
    "        is_no=row['isNo'],\n",
    "        is_final=row['isFinal'],\n",
    "        is_final_v=row['isFinal_V'],\n",
    "        is_checked=row['isChecked'],\n",
    "        is_both=row['isBoth']                \n",
    "    )\n",
    "    temp_object.schwaprese=SkosConcept.objects.get(\n",
    "        pref_label=row['schwapresent'],\n",
    "        scheme=ecce_schwapresent\n",
    "    )\n",
    "    temp_object.save()"
   ]
  }
 ],
 "metadata": {
  "kernelspec": {
   "display_name": "Django Shell-Plus",
   "language": "python",
   "name": "django_extensions"
  },
  "language_info": {
   "codemirror_mode": {
    "name": "ipython",
    "version": 3
   },
   "file_extension": ".py",
   "mimetype": "text/x-python",
   "name": "python",
   "nbconvert_exporter": "python",
   "pygments_lexer": "ipython3",
   "version": "3.5.2"
  }
 },
 "nbformat": 4,
 "nbformat_minor": 1
}
