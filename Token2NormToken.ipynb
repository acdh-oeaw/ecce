{
 "cells": [
  {
   "cell_type": "code",
   "execution_count": 2,
   "metadata": {
    "collapsed": false
   },
   "outputs": [],
   "source": [
    "tokens = Token.objects.exclude(cluster__isnull=True)"
   ]
  },
  {
   "cell_type": "code",
   "execution_count": 3,
   "metadata": {
    "collapsed": false
   },
   "outputs": [
    {
     "data": {
      "text/plain": [
       "331795"
      ]
     },
     "execution_count": 3,
     "metadata": {},
     "output_type": "execute_result"
    }
   ],
   "source": [
    "len(tokens)"
   ]
  },
  {
   "cell_type": "code",
   "execution_count": 4,
   "metadata": {
    "collapsed": false
   },
   "outputs": [
    {
     "name": "stdout",
     "output_type": "stream",
     "text": [
      "331793\n"
     ]
    }
   ],
   "source": [
    "errors = []\n",
    "for x in tokens[267891:]:\n",
    "    temp_new,_ = NormToken.objects.get_or_create(legacy_id=x.legacy_id)\n",
    "    temp_new.spelling = x.spelling\n",
    "    temp_new.left_context = x.left_context\n",
    "    temp_new.plain_word = x.plain_word\n",
    "    temp_new.right_context = x.right_context\n",
    "    try:\n",
    "        temp_new.pos = x.pos.pref_label\n",
    "        temp_new.label_label = x.label.label\n",
    "        temp_new.label_description = x.label.description\n",
    "        temp_new.label_morphonotacticity = x.label.morphonotacticity.pref_label\n",
    "    except:\n",
    "        errors.append(['missing label :',x])\n",
    "    temp_new.comments = x.comments\n",
    "    try:\n",
    "        temp_new.text = x.text_source.text\n",
    "        temp_new.text_date = x.text_source.date\n",
    "        temp_new.text_genre = x.text_source.genre.pref_label\n",
    "        temp_new.text_corpus = x.text_source.corpus.name\n",
    "        temp_new.text_lower = x.text_source.lower\n",
    "        temp_new.text_size = x.text_source.size\n",
    "        temp_new.text_dialect = x.text_source.dialect.pref_label\n",
    "        temp_new.text_meand_date_dates = x.text_source.mean_date.dates\n",
    "        temp_new.text_meand_date_decade = x.text_source.mean_date.decade\n",
    "        temp_new.text_meand_date_semicentury = x.text_source.mean_date.semicentury\n",
    "        temp_new.text_meand_date_century = x.text_source.mean_date.century\n",
    "        temp_new.text_meand_date_pr_cc_checked = x.text_source.mean_date.pr_cc_checekd\n",
    "    except:\n",
    "        errors.append(['missing text :',x])\n",
    "    temp_new.cluster_consonant = x.cluster.consonant\n",
    "    try:\n",
    "        temp_new.cluster_first_consonant = x.cluster.first_consonant.consonant\n",
    "        temp_new.cluster_first_consonant_art_manner = x.cluster.first_consonant.art_manner.pref_label\n",
    "        temp_new.cluster_first_consonant_art_place = x.cluster.first_consonant.art_place.pref_label\n",
    "        temp_new.cluster_first_consonant_voice = x.cluster.first_consonant.voice.pref_label\n",
    "        temp_new.cluster_first_consonant_airflow = x.cluster.first_consonant.airflow.pref_label\n",
    "        temp_new.cluster_first_consonant_sonority = x.cluster.first_consonant.sonority\n",
    "        temp_new.cluster_first_consonant_transcription = x.cluster.first_consonant.transcription\n",
    "        temp_new.cluster_first_consonant_place_ord = x.cluster.first_consonant.place_ord\n",
    "    except:\n",
    "        errors.append([\"missing first consonant :\",x])\n",
    "    try:\n",
    "        temp_new.cluster_second_consonant = x.cluster.second_consonant.consonant\n",
    "        temp_new.cluster_second_consonant_art_manner = x.cluster.second_consonant.art_manner.pref_label\n",
    "        temp_new.cluster_second_consonant_art_place = x.cluster.second_consonant.art_place.pref_label\n",
    "        temp_new.cluster_second_consonant_voice = x.cluster.second_consonant.voice.pref_label\n",
    "        temp_new.cluster_second_consonant_airflow = x.cluster.second_consonant.airflow.pref_label\n",
    "        temp_new.cluster_second_consonant_sonority = x.cluster.second_consonant.sonority\n",
    "        temp_new.cluster_second_consonant_transcription = x.cluster.second_consonant.transcription\n",
    "        temp_new.cluster_second_consonant_place_ord = x.cluster.second_consonant.place_ord\n",
    "    except:\n",
    "        errors.append([\"missing second consonant :\",x])\n",
    "    try:\n",
    "        temp_new.cluster_third_consonant = x.cluster.third_consonant.consonant\n",
    "        temp_new.cluster_third_consonant_art_manner = x.cluster.third_consonant.art_manner.pref_label\n",
    "        temp_new.cluster_third_consonant_art_place = x.cluster.third_consonant.art_place.pref_label\n",
    "        temp_new.cluster_third_consonant_voice = x.cluster.third_consonant.voice.pref_label\n",
    "        temp_new.cluster_third_consonant_airflow = x.cluster.third_consonant.airflow.pref_label\n",
    "        temp_new.cluster_third_consonant_sonority = x.cluster.third_consonant.sonority\n",
    "        temp_new.cluster_third_consonant_transcription = x.cluster.third_consonant.transcription\n",
    "        temp_new.cluster_third_consonant_place_ord = x.cluster.third_consonant.place_ord\n",
    "    except:\n",
    "        errors.append([\"missing first consonant :\",x])\n",
    "    try:\n",
    "        temp_new.cluster_fourth_consonant = x.cluster.fourth_consonant.consonant\n",
    "        temp_new.cluster_fourth_consonant_art_manner = x.cluster.fourth_consonant.art_manner.pref_label\n",
    "        temp_new.cluster_fourth_consonant_art_place = x.cluster.fourth_consonant.art_place.pref_label\n",
    "        temp_new.cluster_fourth_consonant_voice = x.cluster.fourth_consonant.voice.pref_label\n",
    "        temp_new.cluster_fourth_consonant_airflow = x.cluster.fourth_consonant.airflow.pref_label\n",
    "        temp_new.cluster_fourth_consonant_sonority = x.cluster.fourth_consonant.sonority\n",
    "        temp_new.cluster_fourth_consonant_transcription = x.cluster.fourth_consonant.transcription\n",
    "        temp_new.cluster_fourth_consonant_place_ord = x.cluster.fourth_consonant.place_ord\n",
    "    except:\n",
    "        errors.append([\"missing fourth consonant :\",x])\n",
    "    temp_new.cluster_size = x.cluster.size\n",
    "    temp_new.cluster_ssp = x.cluster.ssp\n",
    "    temp_new.cluster_cv_structure = x.cluster.cv_structure\n",
    "    temp_new.cluster_preferred_cluster = x.cluster.preferred_cluster\n",
    "    temp_new.cluster_nad_vc = x.cluster.nad_vc\n",
    "    temp_new.cluster_nad_c1c2 = x.cluster.nad_c1c2\n",
    "    temp_new.cluster_nad_c2c3 = x.cluster.nad_c2c3\n",
    "    temp_new.file = x.file\n",
    "    temp_new.medial_suffix = x.medial_suffix\n",
    "    temp_new.final_suffix = x.final_suffix\n",
    "    try:\n",
    "        temp_new.spelling = x.spelling2.spelling\n",
    "        temp_new.spelling_schwaprese = x.spelling2.schwaprese.pref_label\n",
    "        temp_new.spelling_is_no = x.spelling2.is_no\n",
    "        temp_new.is_final = x.spelling2.is_final\n",
    "        temp_new.spelling_is_final_v = x.spelling2.is_final_v\n",
    "        temp_new.spelling_is_checked = x.spelling2.is_checked\n",
    "        temp_new.spelling_is_both = x.spelling2.is_both\n",
    "    except:\n",
    "        errors.append(['missing spelling :',x])\n",
    "    try:\n",
    "        temp_new.rightonset = x.rightonset.rightonset\n",
    "        temp_new.rightonset_variable = x.rightonset.variable.pref_label\n",
    "        temp_new.rightonset_pre_change = x.rightonset.pre_change\n",
    "        temp_new.rightonset_post_change = x.rightonset.post_change\n",
    "        temp_new.rightonset_onset = x.rightonset.onset\n",
    "        temp_new.rightonset_offset = x.rightonset.offset\n",
    "    except:\n",
    "        errors.append([\"no right on set:\",x])\n",
    "    temp_new.save()\n",
    "print(len(NormToken.objects.all()))"
   ]
  },
  {
   "cell_type": "code",
   "execution_count": 26,
   "metadata": {
    "collapsed": false
   },
   "outputs": [],
   "source": [
    "new_tokens = NormToken.objects.all()"
   ]
  },
  {
   "cell_type": "code",
   "execution_count": 39,
   "metadata": {
    "collapsed": false
   },
   "outputs": [
    {
     "data": {
      "text/plain": [
       "'checked'"
      ]
     },
     "execution_count": 39,
     "metadata": {},
     "output_type": "execute_result"
    }
   ],
   "source": [
    "new_tokens[88].spelling_schwaprese"
   ]
  },
  {
   "cell_type": "code",
   "execution_count": null,
   "metadata": {
    "collapsed": true
   },
   "outputs": [],
   "source": []
  }
 ],
 "metadata": {
  "kernelspec": {
   "display_name": "Django Shell-Plus",
   "language": "python",
   "name": "django_extensions"
  },
  "language_info": {
   "codemirror_mode": {
    "name": "ipython",
    "version": 3
   },
   "file_extension": ".py",
   "mimetype": "text/x-python",
   "name": "python",
   "nbconvert_exporter": "python",
   "pygments_lexer": "ipython3",
   "version": "3.5.2"
  }
 },
 "nbformat": 4,
 "nbformat_minor": 1
}
