{
 "cells": [
  {
   "cell_type": "code",
   "execution_count": 1,
   "metadata": {
    "collapsed": true
   },
   "outputs": [],
   "source": [
    "import pandas as pd"
   ]
  },
  {
   "cell_type": "code",
   "execution_count": 2,
   "metadata": {
    "collapsed": true
   },
   "outputs": [],
   "source": [
    "file = \"data/access-export/tblOnsets.xlsx\""
   ]
  },
  {
   "cell_type": "code",
   "execution_count": 3,
   "metadata": {
    "collapsed": true
   },
   "outputs": [],
   "source": [
    "df = pd.read_excel(file)"
   ]
  },
  {
   "cell_type": "code",
   "execution_count": 4,
   "metadata": {
    "collapsed": true
   },
   "outputs": [],
   "source": [
    "# create necessary concept-schemes\n",
    "ecce_variable,_ = SkosConceptScheme.objects.get_or_create(dc_title=\"ecce-variable\")"
   ]
  },
  {
   "cell_type": "code",
   "execution_count": 5,
   "metadata": {
    "collapsed": true
   },
   "outputs": [],
   "source": [
    "# create needed concepts\n",
    "for i, row in df.iterrows():\n",
    "    temp_variable,_ = SkosConcept.objects.get_or_create(pref_label=row['variable'])\n",
    "    temp_variable.save()\n",
    "    temp_variable.scheme = [ecce_variable]"
   ]
  },
  {
   "cell_type": "code",
   "execution_count": 6,
   "metadata": {
    "collapsed": false
   },
   "outputs": [
    {
     "name": "stderr",
     "output_type": "stream",
     "text": [
      "C:\\Anaconda3\\envs\\ecce\\lib\\site-packages\\django\\db\\backends\\mysql\\base.py:112: Warning: Data truncated for column 'pre_change' at row 1\n",
      "  return self.cursor.execute(query, args)\n",
      "\n",
      "C:\\Anaconda3\\envs\\ecce\\lib\\site-packages\\django\\db\\backends\\mysql\\base.py:112: Warning: Data truncated for column 'post_change' at row 1\n",
      "  return self.cursor.execute(query, args)\n",
      "\n"
     ]
    }
   ],
   "source": [
    "# ceate objects\n",
    "for i, row in df.iterrows():\n",
    "    temp_onset,_ = OnSet.objects.get_or_create(\n",
    "        rightonset=row['rightonset'],\n",
    "        variable=SkosConcept.objects.get(pref_label=row['variable']),\n",
    "        pre_change=row['prechange'],\n",
    "        post_change=row['postchange'],\n",
    "        onset=row['onset'],\n",
    "        offset=row['offset']\n",
    "    )\n",
    "    temp_onset.save()"
   ]
  },
  {
   "cell_type": "code",
   "execution_count": 8,
   "metadata": {
    "collapsed": true
   },
   "outputs": [],
   "source": [
    "#for x in OnSet.objects.all():\n",
    "    #x.delete()"
   ]
  }
 ],
 "metadata": {
  "kernelspec": {
   "display_name": "Django Shell-Plus",
   "language": "python",
   "name": "django_extensions"
  },
  "language_info": {
   "codemirror_mode": {
    "name": "ipython",
    "version": 3
   },
   "file_extension": ".py",
   "mimetype": "text/x-python",
   "name": "python",
   "nbconvert_exporter": "python",
   "pygments_lexer": "ipython3",
   "version": "3.5.2"
  }
 },
 "nbformat": 4,
 "nbformat_minor": 1
}
