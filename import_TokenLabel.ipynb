{
 "cells": [
  {
   "cell_type": "code",
   "execution_count": 1,
   "metadata": {
    "collapsed": true
   },
   "outputs": [],
   "source": [
    "import pandas as pd"
   ]
  },
  {
   "cell_type": "code",
   "execution_count": 2,
   "metadata": {
    "collapsed": true
   },
   "outputs": [],
   "source": [
    "file = \"data/access-export/tblLabels.xlsx\""
   ]
  },
  {
   "cell_type": "code",
   "execution_count": 3,
   "metadata": {
    "collapsed": true
   },
   "outputs": [],
   "source": [
    "df = pd.read_excel(file)"
   ]
  },
  {
   "cell_type": "code",
   "execution_count": 4,
   "metadata": {
    "collapsed": false,
    "scrolled": true
   },
   "outputs": [
    {
     "data": {
      "text/html": [
       "<div>\n",
       "<table border=\"1\" class=\"dataframe\">\n",
       "  <thead>\n",
       "    <tr style=\"text-align: right;\">\n",
       "      <th></th>\n",
       "      <th>label</th>\n",
       "      <th>description</th>\n",
       "      <th>morphonotacticity</th>\n",
       "    </tr>\n",
       "  </thead>\n",
       "  <tbody>\n",
       "    <tr>\n",
       "      <th>0</th>\n",
       "      <td>?</td>\n",
       "      <td>A word form that cannot be made any sense of, ...</td>\n",
       "      <td>NaN</td>\n",
       "    </tr>\n",
       "    <tr>\n",
       "      <th>1</th>\n",
       "      <td>C</td>\n",
       "      <td>The word form is very unlikely to have ever su...</td>\n",
       "      <td>NaN</td>\n",
       "    </tr>\n",
       "    <tr>\n",
       "      <th>2</th>\n",
       "      <td>C?</td>\n",
       "      <td>A word form that cannot be made any sense of, ...</td>\n",
       "      <td>NaN</td>\n",
       "    </tr>\n",
       "    <tr>\n",
       "      <th>3</th>\n",
       "      <td>D</td>\n",
       "      <td>Final cluster spanning the boundary between a ...</td>\n",
       "      <td>morphonotactic</td>\n",
       "    </tr>\n",
       "    <tr>\n",
       "      <th>4</th>\n",
       "      <td>D?</td>\n",
       "      <td>A word form that cannot be made any sense of, ...</td>\n",
       "      <td>NaN</td>\n",
       "    </tr>\n",
       "    <tr>\n",
       "      <th>5</th>\n",
       "      <td>DS</td>\n",
       "      <td>Final cluster completely within a fully transp...</td>\n",
       "      <td>lexical</td>\n",
       "    </tr>\n",
       "    <tr>\n",
       "      <th>6</th>\n",
       "      <td>DS?</td>\n",
       "      <td>A word form that cannot be made any sense of, ...</td>\n",
       "      <td>NaN</td>\n",
       "    </tr>\n",
       "    <tr>\n",
       "      <th>7</th>\n",
       "      <td>I</td>\n",
       "      <td>Final cluster spanning the boundary between a ...</td>\n",
       "      <td>morphonotactic</td>\n",
       "    </tr>\n",
       "    <tr>\n",
       "      <th>8</th>\n",
       "      <td>I?</td>\n",
       "      <td>A word form that cannot be made any sense of, ...</td>\n",
       "      <td>NaN</td>\n",
       "    </tr>\n",
       "    <tr>\n",
       "      <th>9</th>\n",
       "      <td>IS</td>\n",
       "      <td>Final cluster completely within a fully transp...</td>\n",
       "      <td>lexical</td>\n",
       "    </tr>\n",
       "    <tr>\n",
       "      <th>10</th>\n",
       "      <td>IS?</td>\n",
       "      <td>A word form that cannot be made any sense of, ...</td>\n",
       "      <td>NaN</td>\n",
       "    </tr>\n",
       "    <tr>\n",
       "      <th>11</th>\n",
       "      <td>L</td>\n",
       "      <td>Final cluster within a word final stem morph;\\...</td>\n",
       "      <td>lexical</td>\n",
       "    </tr>\n",
       "    <tr>\n",
       "      <th>12</th>\n",
       "      <td>L?</td>\n",
       "      <td>A word form that cannot be made any sense of, ...</td>\n",
       "      <td>NaN</td>\n",
       "    </tr>\n",
       "    <tr>\n",
       "      <th>13</th>\n",
       "      <td>LD</td>\n",
       "      <td>Final cluster in a morphosemantically complex ...</td>\n",
       "      <td>weakly.morphonotactic</td>\n",
       "    </tr>\n",
       "    <tr>\n",
       "      <th>14</th>\n",
       "      <td>LD?</td>\n",
       "      <td>A word form that cannot be made any sense of, ...</td>\n",
       "      <td>NaN</td>\n",
       "    </tr>\n",
       "    <tr>\n",
       "      <th>15</th>\n",
       "      <td>LDS</td>\n",
       "      <td>Final cluster within a highly lexicalised word...</td>\n",
       "      <td>lexical</td>\n",
       "    </tr>\n",
       "    <tr>\n",
       "      <th>16</th>\n",
       "      <td>LDS?</td>\n",
       "      <td>A word form that cannot be made any sense of, ...</td>\n",
       "      <td>NaN</td>\n",
       "    </tr>\n",
       "    <tr>\n",
       "      <th>17</th>\n",
       "      <td>LI</td>\n",
       "      <td>Final cluster in a morphosemantically complex ...</td>\n",
       "      <td>weakly.morphonotactic</td>\n",
       "    </tr>\n",
       "    <tr>\n",
       "      <th>18</th>\n",
       "      <td>LI?</td>\n",
       "      <td>A word form that cannot be made any sense of, ...</td>\n",
       "      <td>NaN</td>\n",
       "    </tr>\n",
       "    <tr>\n",
       "      <th>19</th>\n",
       "      <td>LIS</td>\n",
       "      <td>Final cluster within a highly lexicalised word...</td>\n",
       "      <td>lexical</td>\n",
       "    </tr>\n",
       "    <tr>\n",
       "      <th>20</th>\n",
       "      <td>LIS?</td>\n",
       "      <td>A word form that cannot be made any sense of, ...</td>\n",
       "      <td>NaN</td>\n",
       "    </tr>\n",
       "  </tbody>\n",
       "</table>\n",
       "</div>"
      ],
      "text/plain": [
       "   label                                        description  \\\n",
       "0      ?  A word form that cannot be made any sense of, ...   \n",
       "1      C  The word form is very unlikely to have ever su...   \n",
       "2     C?  A word form that cannot be made any sense of, ...   \n",
       "3      D  Final cluster spanning the boundary between a ...   \n",
       "4     D?  A word form that cannot be made any sense of, ...   \n",
       "5     DS  Final cluster completely within a fully transp...   \n",
       "6    DS?  A word form that cannot be made any sense of, ...   \n",
       "7      I  Final cluster spanning the boundary between a ...   \n",
       "8     I?  A word form that cannot be made any sense of, ...   \n",
       "9     IS  Final cluster completely within a fully transp...   \n",
       "10   IS?  A word form that cannot be made any sense of, ...   \n",
       "11     L  Final cluster within a word final stem morph;\\...   \n",
       "12    L?  A word form that cannot be made any sense of, ...   \n",
       "13    LD  Final cluster in a morphosemantically complex ...   \n",
       "14   LD?  A word form that cannot be made any sense of, ...   \n",
       "15   LDS  Final cluster within a highly lexicalised word...   \n",
       "16  LDS?  A word form that cannot be made any sense of, ...   \n",
       "17    LI  Final cluster in a morphosemantically complex ...   \n",
       "18   LI?  A word form that cannot be made any sense of, ...   \n",
       "19   LIS  Final cluster within a highly lexicalised word...   \n",
       "20  LIS?  A word form that cannot be made any sense of, ...   \n",
       "\n",
       "        morphonotacticity  \n",
       "0                     NaN  \n",
       "1                     NaN  \n",
       "2                     NaN  \n",
       "3          morphonotactic  \n",
       "4                     NaN  \n",
       "5                 lexical  \n",
       "6                     NaN  \n",
       "7          morphonotactic  \n",
       "8                     NaN  \n",
       "9                 lexical  \n",
       "10                    NaN  \n",
       "11                lexical  \n",
       "12                    NaN  \n",
       "13  weakly.morphonotactic  \n",
       "14                    NaN  \n",
       "15                lexical  \n",
       "16                    NaN  \n",
       "17  weakly.morphonotactic  \n",
       "18                    NaN  \n",
       "19                lexical  \n",
       "20                    NaN  "
      ]
     },
     "execution_count": 4,
     "metadata": {},
     "output_type": "execute_result"
    }
   ],
   "source": [
    "df"
   ]
  },
  {
   "cell_type": "code",
   "execution_count": 5,
   "metadata": {
    "collapsed": true
   },
   "outputs": [],
   "source": [
    "# create necessary concept-schemes\n",
    "ecce_morphonotacticity,_ = SkosConceptScheme.objects.get_or_create(dc_title=\"morphonotacticity\")"
   ]
  },
  {
   "cell_type": "code",
   "execution_count": 6,
   "metadata": {
    "collapsed": true
   },
   "outputs": [],
   "source": [
    "# create needed concepts\n",
    "for i, row in df.iterrows():\n",
    "    temp_concept,_ = SkosConcept.objects.get_or_create(pref_label=row['morphonotacticity'])\n",
    "    temp_concept.save()\n",
    "    temp_concept.scheme = [ecce_morphonotacticity]"
   ]
  },
  {
   "cell_type": "code",
   "execution_count": 7,
   "metadata": {
    "collapsed": true
   },
   "outputs": [],
   "source": [
    "for i, row in df.iterrows():\n",
    "    temp_object,_ = TokenLabel.objects.get_or_create(\n",
    "        label=row['label'],\n",
    "        description=row['description'],\n",
    "    )\n",
    "    temp_object.morphonotacticity=SkosConcept.objects.get(\n",
    "        pref_label=row['morphonotacticity'],\n",
    "        scheme=ecce_morphonotacticity\n",
    "    )\n",
    "    temp_object.save()"
   ]
  }
 ],
 "metadata": {
  "kernelspec": {
   "display_name": "Django Shell-Plus",
   "language": "python",
   "name": "django_extensions"
  },
  "language_info": {
   "codemirror_mode": {
    "name": "ipython",
    "version": 3
   },
   "file_extension": ".py",
   "mimetype": "text/x-python",
   "name": "python",
   "nbconvert_exporter": "python",
   "pygments_lexer": "ipython3",
   "version": "3.5.2"
  }
 },
 "nbformat": 4,
 "nbformat_minor": 1
}
