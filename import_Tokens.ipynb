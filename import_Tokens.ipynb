{
 "cells": [
  {
   "cell_type": "code",
   "execution_count": 1,
   "metadata": {
    "collapsed": false
   },
   "outputs": [],
   "source": [
    "import pandas as pd"
   ]
  },
  {
   "cell_type": "code",
   "execution_count": 2,
   "metadata": {
    "collapsed": true
   },
   "outputs": [],
   "source": [
    "file = \"data/tblTokensNew.xlsx\""
   ]
  },
  {
   "cell_type": "code",
   "execution_count": 3,
   "metadata": {
    "collapsed": false
   },
   "outputs": [],
   "source": [
    "df = pd.read_excel(file)"
   ]
  },
  {
   "cell_type": "code",
   "execution_count": 11,
   "metadata": {
    "collapsed": true
   },
   "outputs": [],
   "source": [
    "# create necessary concept-schemes\n",
    "ecce_pos,_ = SkosConceptScheme.objects.get_or_create(dc_title=\"ecce-pos\")"
   ]
  },
  {
   "cell_type": "code",
   "execution_count": 12,
   "metadata": {
    "collapsed": true
   },
   "outputs": [],
   "source": [
    "lemmas = df[['lemma', 'lemmaPoS']]"
   ]
  },
  {
   "cell_type": "code",
   "execution_count": 13,
   "metadata": {
    "collapsed": false
   },
   "outputs": [],
   "source": [
    "lemmas = lemmas.drop_duplicates().values.tolist()"
   ]
  },
  {
   "cell_type": "code",
   "execution_count": 14,
   "metadata": {
    "collapsed": false
   },
   "outputs": [],
   "source": [
    "pos = df[['PoS', 'lemmaPoS']]"
   ]
  },
  {
   "cell_type": "code",
   "execution_count": 15,
   "metadata": {
    "collapsed": false
   },
   "outputs": [],
   "source": [
    "pos = set(pos['PoS'].drop_duplicates().values.tolist() + pos['lemmaPoS'].drop_duplicates().values.tolist())"
   ]
  },
  {
   "cell_type": "code",
   "execution_count": 16,
   "metadata": {
    "collapsed": false
   },
   "outputs": [],
   "source": [
    "pos = set([x.upper() for x in list(pos) if isinstance(x,str)])"
   ]
  },
  {
   "cell_type": "code",
   "execution_count": 17,
   "metadata": {
    "collapsed": false
   },
   "outputs": [],
   "source": [
    "for x in pos:\n",
    "    temp_variable,_ = SkosConcept.objects.get_or_create(pref_label=x)\n",
    "    temp_variable.save()\n",
    "    temp_variable.scheme = [ecce_pos]"
   ]
  },
  {
   "cell_type": "code",
   "execution_count": 18,
   "metadata": {
    "collapsed": false
   },
   "outputs": [],
   "source": [
    "for x in lemmas:\n",
    "    temp_lemma,_ = Lemma.objects.get_or_create(name=x[0], pos=SkosConcept.objects.get_or_create(pref_label=x[1])[0])\n",
    "    temp_lemma.save()"
   ]
  },
  {
   "cell_type": "code",
   "execution_count": 50,
   "metadata": {
    "collapsed": false
   },
   "outputs": [],
   "source": [
    "sample = df.ix[280994:340000]"
   ]
  },
  {
   "cell_type": "code",
   "execution_count": 51,
   "metadata": {
    "collapsed": false
   },
   "outputs": [],
   "source": [
    "# ceate objects\n",
    "for i, row in sample.iterrows():\n",
    "    temp_object,_ = Token.objects.get_or_create(\n",
    "        legacy_id=row['ID'],\n",
    "        spelling=row['spelling'],\n",
    "        left_context=row['leftcontext'],\n",
    "        plain_word=row['plainword'],\n",
    "        comments=row['comments'],\n",
    "        right_context=row['rightcontext'],\n",
    "        file=row['file'],\n",
    "        medial_suffix=row['medialsuffix'],\n",
    "        final_suffix=row['finalsuffix'],\n",
    "        weight = row['weight'],\n",
    "        weight_norm = row['weightPerMilPerSemi']\n",
    "    )\n",
    "    temp_lemma,_ = Lemma.objects.get_or_create(\n",
    "            name=row['lemma'], pos=SkosConcept.objects.get_or_create(pref_label=row['lemmaPoS'])[0]\n",
    "        )\n",
    "    temp_object.lemma = temp_lemma\n",
    "    temp_object.save()\n",
    "    try:\n",
    "        temp_pos = SkosConcept.objects.get(pref_label=row['PoS'])\n",
    "        temp_object.pos=temp_pos\n",
    "        temp_object.save()\n",
    "    except:\n",
    "        pass\n",
    "    try:\n",
    "        temp_fk = TokenLabel.objects.get(label=row['label'])\n",
    "        temp_object.label=temp_fk\n",
    "        temp_object.save()\n",
    "    except:\n",
    "        pass\n",
    "    try:\n",
    "        temp_fk = Text.objects.get(text=row['textsource'])\n",
    "        temp_object.text_source=temp_fk\n",
    "        temp_object.save()\n",
    "    except:\n",
    "        pass\n",
    "    try:\n",
    "        temp_fk = Cluster.objects.get(consonant=row['cluster'])\n",
    "        temp_object.cluster=temp_fk\n",
    "        temp_object.save()\n",
    "    except:\n",
    "        pass\n",
    "    try:\n",
    "        temp_fk = SchwaPresent.objects.get(spelling=row['spelling2'])\n",
    "        temp_object.spelling2=temp_fk\n",
    "        temp_object.save()\n",
    "    except:\n",
    "        pass\n",
    "    try:\n",
    "        temp_fk = OnSet.objects.get(rightonset=row['rightonset'])\n",
    "        temp_object.rightonset=temp_fk\n",
    "        temp_object.save()\n",
    "    except:\n",
    "        pass"
   ]
  },
  {
   "cell_type": "code",
   "execution_count": 52,
   "metadata": {
    "collapsed": false
   },
   "outputs": [
    {
     "data": {
      "text/plain": [
       "331439"
      ]
     },
     "execution_count": 52,
     "metadata": {},
     "output_type": "execute_result"
    }
   ],
   "source": [
    "# number of tokens\n",
    "Token.objects.all().count()"
   ]
  },
  {
   "cell_type": "code",
   "execution_count": 41,
   "metadata": {
    "collapsed": true
   },
   "outputs": [],
   "source": [
    "#for x in Token.objects.all():\n",
    "   # x.delete()"
   ]
  }
 ],
 "metadata": {
  "kernelspec": {
   "display_name": "Django Shell-Plus",
   "language": "python",
   "name": "django_extensions"
  },
  "language_info": {
   "codemirror_mode": {
    "name": "ipython",
    "version": 3
   },
   "file_extension": ".py",
   "mimetype": "text/x-python",
   "name": "python",
   "nbconvert_exporter": "python",
   "pygments_lexer": "ipython3",
   "version": "3.5.2"
  }
 },
 "nbformat": 4,
 "nbformat_minor": 1
}
