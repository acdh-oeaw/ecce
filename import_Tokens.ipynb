{
 "cells": [
  {
   "cell_type": "code",
   "execution_count": 1,
   "metadata": {
    "collapsed": false
   },
   "outputs": [],
   "source": [
    "import pandas as pd"
   ]
  },
  {
   "cell_type": "code",
   "execution_count": 2,
   "metadata": {
    "collapsed": true
   },
   "outputs": [],
   "source": [
    "file = \"data/access-export/derLetzteRest.xlsx\""
   ]
  },
  {
   "cell_type": "code",
   "execution_count": 3,
   "metadata": {
    "collapsed": false
   },
   "outputs": [],
   "source": [
    "df = pd.read_excel(file)"
   ]
  },
  {
   "cell_type": "code",
   "execution_count": 4,
   "metadata": {
    "collapsed": true
   },
   "outputs": [],
   "source": [
    "# create necessary concept-schemes\n",
    "ecce_pos,_ = SkosConceptScheme.objects.get_or_create(dc_title=\"ecce-pos\")"
   ]
  },
  {
   "cell_type": "code",
   "execution_count": 5,
   "metadata": {
    "collapsed": false
   },
   "outputs": [],
   "source": [
    "pos = set(df['PoS'])"
   ]
  },
  {
   "cell_type": "code",
   "execution_count": 6,
   "metadata": {
    "collapsed": false
   },
   "outputs": [],
   "source": [
    "for x in pos:\n",
    "    temp_variable,_ = SkosConcept.objects.get_or_create(pref_label=x)\n",
    "    temp_variable.save()\n",
    "    temp_variable.scheme = [ecce_pos]"
   ]
  },
  {
   "cell_type": "code",
   "execution_count": 7,
   "metadata": {
    "collapsed": false
   },
   "outputs": [],
   "source": [
    "# ceate objects\n",
    "for i, row in df.iterrows():\n",
    "    temp_object,_ = Token.objects.get_or_create(\n",
    "        legacy_id=row['ID'],\n",
    "        spelling=row['spelling'],\n",
    "        left_context=row['leftcontext'],\n",
    "        plain_word=row['plainword'],\n",
    "        comments=row['comments'],\n",
    "        right_context=row['rightcontext'],\n",
    "        file=row['file'],\n",
    "        medial_suffix=row['medialsuffix'],\n",
    "        final_suffix=row['finalsuffix'],     \n",
    "    )\n",
    "    try:\n",
    "        temp_pos = SkosConcept.objects.get(pref_label=row['PoS'])\n",
    "        temp_object.pos=temp_pos\n",
    "        temp_object.save()\n",
    "    except:\n",
    "        pass\n",
    "    try:\n",
    "        temp_fk = TokenLabel.objects.get(label=row['label'])\n",
    "        temp_object.label=temp_fk\n",
    "        temp_object.save()\n",
    "    except:\n",
    "        pass\n",
    "    try:\n",
    "        temp_fk = Text.objects.get(text=row['textsource'])\n",
    "        temp_object.text_source=temp_fk\n",
    "        temp_object.save()\n",
    "    except:\n",
    "        pass\n",
    "    try:\n",
    "        temp_fk = Cluster.objects.get(consonant=row['cluster'])\n",
    "        temp_object.cluster=temp_fk\n",
    "        temp_object.save()\n",
    "    except:\n",
    "        pass\n",
    "    try:\n",
    "        temp_fk = SchwaPresent.objects.get(spelling=row['spelling2'])\n",
    "        temp_object.spelling2=temp_fk\n",
    "        temp_object.save()\n",
    "    except:\n",
    "        pass\n",
    "    try:\n",
    "        temp_fk = OnSet.objects.get(rightonset=row['rightonset'])\n",
    "        temp_object.rightonset=temp_fk\n",
    "        temp_object.save()\n",
    "    except:\n",
    "        pass"
   ]
  },
  {
   "cell_type": "code",
   "execution_count": 1,
   "metadata": {
    "collapsed": true
   },
   "outputs": [],
   "source": [
    "#for x in Token.objects.all():\n",
    "    #x.delete()"
   ]
  }
 ],
 "metadata": {
  "kernelspec": {
   "display_name": "Django Shell-Plus",
   "language": "python",
   "name": "django_extensions"
  },
  "language_info": {
   "codemirror_mode": {
    "name": "ipython",
    "version": 3
   },
   "file_extension": ".py",
   "mimetype": "text/x-python",
   "name": "python",
   "nbconvert_exporter": "python",
   "pygments_lexer": "ipython3",
   "version": "3.5.2"
  }
 },
 "nbformat": 4,
 "nbformat_minor": 1
}
