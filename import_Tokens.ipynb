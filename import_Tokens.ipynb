{
 "cells": [
  {
   "cell_type": "code",
   "execution_count": null,
   "metadata": {
    "collapsed": false
   },
   "outputs": [],
   "source": [
    "import pandas as pd"
   ]
  },
  {
   "cell_type": "code",
   "execution_count": null,
   "metadata": {
    "collapsed": true
   },
   "outputs": [],
   "source": [
    "file = \"data/tblTokensNew_180301.xlsx\""
   ]
  },
  {
   "cell_type": "code",
   "execution_count": null,
   "metadata": {
    "collapsed": false
   },
   "outputs": [],
   "source": [
    "df = pd.read_excel(file)"
   ]
  },
  {
   "cell_type": "code",
   "execution_count": null,
   "metadata": {
    "collapsed": true
   },
   "outputs": [],
   "source": [
    "# create necessary concept-schemes\n",
    "ecce_pos,_ = SkosConceptScheme.objects.get_or_create(dc_title=\"ecce-pos\")\n",
    "lemma_pos,_ = SkosConceptScheme.objects.get_or_create(dc_title=\"lemma-pos\")"
   ]
  },
  {
   "cell_type": "code",
   "execution_count": null,
   "metadata": {
    "collapsed": false,
    "scrolled": true
   },
   "outputs": [],
   "source": [
    "pos = set(df['PoS'])"
   ]
  },
  {
   "cell_type": "code",
   "execution_count": null,
   "metadata": {
    "collapsed": false
   },
   "outputs": [],
   "source": [
    "for x in pos:\n",
    "    temp_variable,_ = SkosConcept.objects.get_or_create(pref_label=x)\n",
    "    temp_variable.save()\n",
    "    temp_variable.scheme.set([ecce_pos])"
   ]
  },
  {
   "cell_type": "code",
   "execution_count": null,
   "metadata": {
    "collapsed": false
   },
   "outputs": [],
   "source": [
    "# ceate objects\n",
    "missing_clusters = []\n",
    "for i, row in df.iterrows():\n",
    "    temp_object,_ = Token.objects.get_or_create(legacy_id=row['ID'])\n",
    "    temp_object.spelling=row['spelling']\n",
    "    temp_object.left_context=row['leftcontext']\n",
    "    temp_object.plain_word=row['plainword']\n",
    "    temp_object.comments=row['comments']\n",
    "    temp_object.right_context=row['rightcontext']\n",
    "    temp_object.file=row['file']\n",
    "    temp_object.medial_suffix=row['medialsuffix']\n",
    "    temp_object.final_suffix=row['finalsuffix']\n",
    "    temp_object.weight = row['weight']\n",
    "    temp_object.weight_norm = row['weightPerMilPerSemi']\n",
    "    temp_object.weight_not_norm = row['awPerMilPerSemi']\n",
    "    try:\n",
    "        temp_pos = SkosConcept.objects.get(pref_label=row['PoS'])\n",
    "        temp_object.pos=temp_pos\n",
    "        temp_object.save()\n",
    "    except:\n",
    "        pass\n",
    "    try:\n",
    "        temp_fk = TokenLabel.objects.get(label=row['label'])\n",
    "        temp_object.label=temp_fk\n",
    "        temp_object.save()\n",
    "    except:\n",
    "        pass\n",
    "    try:\n",
    "        temp_fk = Text.objects.get(text=row['textsource'])\n",
    "        temp_object.text_source=temp_fk\n",
    "        temp_object.save()\n",
    "    except:\n",
    "        pass\n",
    "    try:\n",
    "        print(row['cluster'])\n",
    "        temp_fk = Cluster.objects.get(consonant=row['cluster'])\n",
    "        temp_object.cluster=temp_fk\n",
    "        temp_object.save()\n",
    "    except:\n",
    "        print(row['cluster'])\n",
    "        missing_clusters.append(row['cluster'])\n",
    "        pass\n",
    "    try:\n",
    "        temp_fk = SchwaPresent.objects.get(spelling=row['spelling2'])\n",
    "        temp_object.spelling2=temp_fk\n",
    "        temp_object.save()\n",
    "    except:\n",
    "        pass\n",
    "    try:\n",
    "        temp_fk = OnSet.objects.get(rightonset=row['rightonset'])\n",
    "        temp_object.rightonset=temp_fk\n",
    "        temp_object.save()\n",
    "    except:\n",
    "        pass\n",
    "    temp_lempos, _ = SkosConcept.objects.get_or_create(\n",
    "        pref_label=row['lemmaPoS'],\n",
    "        scheme=lemma_pos\n",
    "    )\n",
    "    new_lemma, _ = Lemma.objects.get_or_create(\n",
    "        name=row['lemma'], pos=temp_lempos\n",
    "    )\n",
    "    temp_object.lemma = new_lemma\n",
    "    temp_object.save()"
   ]
  },
  {
   "cell_type": "code",
   "execution_count": null,
   "metadata": {
    "collapsed": false
   },
   "outputs": [],
   "source": [
    "#Token.objects.all().delete()"
   ]
  }
 ],
 "metadata": {
  "kernelspec": {
   "display_name": "Django Shell-Plus",
   "language": "python",
   "name": "django_extensions"
  },
  "language_info": {
   "codemirror_mode": {
    "name": "ipython",
    "version": 3
   },
   "file_extension": ".py",
   "mimetype": "text/x-python",
   "name": "python",
   "nbconvert_exporter": "python",
   "pygments_lexer": "ipython3",
   "version": "3.5.2"
  }
 },
 "nbformat": 4,
 "nbformat_minor": 1
}
